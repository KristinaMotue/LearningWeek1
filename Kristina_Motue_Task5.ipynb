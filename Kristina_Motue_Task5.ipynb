{
 "cells": [
  {
   "cell_type": "code",
   "execution_count": null,
   "metadata": {},
   "outputs": [
    {
     "name": "stdout",
     "output_type": "stream",
     "text": [
      "Hello, choose two numbers please.\n"
     ]
    }
   ],
   "source": [
    "print(\"Hello, choose two numbers please.\")\n",
    "number_1 = int(input(\"first number is: \"))\n",
    "number_2 = int(input(\"second number is: \"))\n",
    "print(\"Thank you. Now, choose an operation for the two numbers\")\n",
    "operation = input(\"Enter A if you want to ADD, enter B if you want to SUBTRACT, enter C if you want to MULTIPLY, enter D if you want to DIVIDE, enter E if you want to POWER: \")\n",
    "if operation == \"A\":\n",
    "    print(number_1, \"+\", number_2, \"equals to \", number_1 + number_2)\n",
    "elif operation == \"B\":\n",
    "    print(number_1, \"-\", number_2, \"equals to\", number_1 - number_2)\n",
    "elif operation == \"C\":\n",
    "    print(number_1, \"*\", number_2, \"equals to\", number_1 * number_2)\n",
    "elif operation == \"D\":\n",
    "    print(number_1, \"/\", number_2, \"equals to\", number_1 / number_3)\n",
    "elif operation == \"E\":\n",
    "    print(number_1, \"to the power of\", number_2, \"equals to\", number_1 ** number_2)\n",
    "   "
   ]
  },
  {
   "cell_type": "code",
   "execution_count": null,
   "metadata": {},
   "outputs": [],
   "source": []
  }
 ],
 "metadata": {
  "kernelspec": {
   "display_name": "Python 3",
   "language": "python",
   "name": "python3"
  },
  "language_info": {
   "codemirror_mode": {
    "name": "ipython",
    "version": 3
   },
   "file_extension": ".py",
   "mimetype": "text/x-python",
   "name": "python",
   "nbconvert_exporter": "python",
   "pygments_lexer": "ipython3",
   "version": "3.8.5"
  }
 },
 "nbformat": 4,
 "nbformat_minor": 4
}
