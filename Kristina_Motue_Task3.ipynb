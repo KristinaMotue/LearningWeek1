{
 "cells": [
  {
   "cell_type": "code",
   "execution_count": null,
   "metadata": {},
   "outputs": [
    {
     "name": "stdout",
     "output_type": "stream",
     "text": [
      "Hello, what is your favourite meal?\n"
     ]
    }
   ],
   "source": [
    "print(\"Hello, what is your favourite meal?\")\n",
    "starter = input(\"What is your favourite starter? \")\n",
    "main = input(\"What is your favourite main? \")\n",
    "dessert = input(\"What is your favourite dessert? \")\n",
    "drink = input(\"What is your favourite drink? \")\n",
    "print(\"Thank you\")\n",
    "print(\"Your favourite meal starts with\", starter + \".As a main you like to eat\", main + \" with a glass of\", drink + \" and then the dessert is\", dessert + \".\")"
   ]
  },
  {
   "cell_type": "code",
   "execution_count": null,
   "metadata": {},
   "outputs": [],
   "source": []
  },
  {
   "cell_type": "code",
   "execution_count": null,
   "metadata": {},
   "outputs": [],
   "source": []
  },
  {
   "cell_type": "code",
   "execution_count": null,
   "metadata": {},
   "outputs": [],
   "source": []
  }
 ],
 "metadata": {
  "kernelspec": {
   "display_name": "Python 3",
   "language": "python",
   "name": "python3"
  },
  "language_info": {
   "codemirror_mode": {
    "name": "ipython",
    "version": 3
   },
   "file_extension": ".py",
   "mimetype": "text/x-python",
   "name": "python",
   "nbconvert_exporter": "python",
   "pygments_lexer": "ipython3",
   "version": "3.8.5"
  }
 },
 "nbformat": 4,
 "nbformat_minor": 4
}
