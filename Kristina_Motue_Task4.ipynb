{
 "cells": [
  {
   "cell_type": "code",
   "execution_count": 6,
   "metadata": {},
   "outputs": [
    {
     "name": "stdout",
     "output_type": "stream",
     "text": [
      "The price of the motorbike is £ 2000\n",
      "The price of the motorbike is £ 1800.0\n",
      "The price of the motorbike is £ 1620.0\n",
      "The price of the motorbike is £ 1458.0\n",
      "The price of the motorbike is £ 1312.2\n",
      "The price of the motorbike is £ 1180.98\n",
      "The price of the motorbike is £ 1062.882\n",
      "The price of the motorbike is £ 956.5938000000001\n"
     ]
    }
   ],
   "source": [
    "motorbike = 2000\n",
    "while motorbike > 900 :\n",
    "    print(\"The price of the motorbike is £\", motorbike )\n",
    "    motorbike = 0.9 * motorbike "
   ]
  }
 ],
 "metadata": {
  "kernelspec": {
   "display_name": "Python 3",
   "language": "python",
   "name": "python3"
  },
  "language_info": {
   "codemirror_mode": {
    "name": "ipython",
    "version": 3
   },
   "file_extension": ".py",
   "mimetype": "text/x-python",
   "name": "python",
   "nbconvert_exporter": "python",
   "pygments_lexer": "ipython3",
   "version": "3.8.5"
  }
 },
 "nbformat": 4,
 "nbformat_minor": 4
}
