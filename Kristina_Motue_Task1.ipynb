{
 "cells": [
  {
   "cell_type": "code",
   "execution_count": null,
   "metadata": {},
   "outputs": [],
   "source": [
    "import random\n",
    "Random_number = random.randint(1,10)\n",
    "user_name = input(\"What is your name?\")\n",
    "print(\"Hello,\", user_name + \"!\" )\n",
    "user_number = int(input (\"Can you guess a number between 1 and 10 I am thinking of?\"))\n",
    "\n",
    "if Random_number == user_number:\n",
    "    print(\"Correct \", user_name + \" !\", \"This is the number I am thinking of!\")\n",
    "else:\n",
    "    print(\"Wrong,\", user_name + \"!\", \"Try again next time.\")\n"
   ]
  },
  {
   "cell_type": "code",
   "execution_count": null,
   "metadata": {},
   "outputs": [],
   "source": []
  }
 ],
 "metadata": {
  "kernelspec": {
   "display_name": "Python 3",
   "language": "python",
   "name": "python3"
  },
  "language_info": {
   "codemirror_mode": {
    "name": "ipython",
    "version": 3
   },
   "file_extension": ".py",
   "mimetype": "text/x-python",
   "name": "python",
   "nbconvert_exporter": "python",
   "pygments_lexer": "ipython3",
   "version": "3.8.5"
  }
 },
 "nbformat": 4,
 "nbformat_minor": 4
}
