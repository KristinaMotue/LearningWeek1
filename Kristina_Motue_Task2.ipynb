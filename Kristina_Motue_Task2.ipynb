{
 "cells": [
  {
   "cell_type": "code",
   "execution_count": null,
   "metadata": {},
   "outputs": [],
   "source": [
    "fav_number = int(input(\"Hello, what is your favourite number between 1 and 100? \"))\n",
    "if fav_number <= 40:\n",
    "    print(\"Did you hear about the claustrophobic astronaut? He just needed a little space.\")\n",
    "elif 40 < fav_number <= 80: \n",
    "    print(\"Why don’t scientists trust atoms? Because they make up everything.\")\n",
    "elif 80 < fav_number < 100:\n",
    "    print(\"I poured root beer in a square glass. Now I just have beer.\")\n",
    "elif fav_number == 100:\n",
    "    print(\"Why did the hipster burn his mouth? He drank the coffee before it was cool.\")\n",
    "\n"
   ]
  },
  {
   "cell_type": "code",
   "execution_count": null,
   "metadata": {},
   "outputs": [],
   "source": []
  }
 ],
 "metadata": {
  "kernelspec": {
   "display_name": "Python 3",
   "language": "python",
   "name": "python3"
  },
  "language_info": {
   "codemirror_mode": {
    "name": "ipython",
    "version": 3
   },
   "file_extension": ".py",
   "mimetype": "text/x-python",
   "name": "python",
   "nbconvert_exporter": "python",
   "pygments_lexer": "ipython3",
   "version": "3.8.5"
  }
 },
 "nbformat": 4,
 "nbformat_minor": 4
}
